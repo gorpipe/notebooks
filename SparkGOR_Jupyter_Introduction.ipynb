{
  "cells": [
    {
      "cell_type": "markdown",
      "metadata": {
        "colab_type": "text",
        "id": "view-in-github"
      },
      "source": [
        "<a href=\"https://colab.research.google.com/github/sigmarkarl/notebooks/blob/main/SparkGOR_Jupyter_Introduction.ipynb\" target=\"_parent\"><img src=\"https://colab.research.google.com/assets/colab-badge.svg\" alt=\"Open In Colab\"/></a>"
      ]
    },
    {
      "cell_type": "markdown",
      "metadata": {
        "id": "_S-tHWZ4Ien5"
      },
      "source": [
        "# Introduction to SparkGOR\n",
        "\n",
        "This notebook gives an introduction to the integration of Spark and GOR using the Google Colab environment. To use this notebook in a meaningful way, you will need to have access to some data in the GOR format, such as the reference data available as part of the GOR Open Source project. \n",
        "\n",
        "This notebook can be run in one of two ways:\n",
        "\n",
        "* Connect to a hosted Jupyter runtime with Google Drive\n",
        "* Connect to a local Jupyter runtime with local file storage\n",
        "\n",
        "For the purposes of this demonstration, we will be using a local Jupyter runtime, which is setup as described on the following page: https://research.google.com/colaboratory/local-runtimes.html\n",
        "\n"
      ]
    },
    {
      "cell_type": "markdown",
      "metadata": {
        "id": "zF8H7T9CX50o"
      },
      "source": [
        "## Initial setup\n",
        "\n",
        "In order to run the examples that are outlined in this notebook, you must first install pyspark and numpy locally using your package manager. For example, if you use pip to install Python packages, you can use the following commands to install the necessary packages:"
      ]
    },
    {
      "cell_type": "code",
      "execution_count": null,
      "metadata": {
        "id": "Cbq_bBzxur7k"
      },
      "outputs": [],
      "source": [
        "!pip3 install pyspark\n",
        "!pip3 install gor_pyspark"
      ]
    },
    {
      "cell_type": "markdown",
      "metadata": {
        "id": "lXMa0ux2us1v"
      },
      "source": [
        "It is advisable to do this before running your local Jupyter server so that the modules will be available to you in the Jupyter environment.\n",
        "\n",
        "You should also ensure that the Jupyter server is using Python 3 because of dependencies needed by pyspark. An example is shown here:"
      ]
    },
    {
      "cell_type": "code",
      "execution_count": null,
      "metadata": {
        "id": "gdFMPuX0utBW"
      },
      "outputs": [],
      "source": [
        "export PYSPARK_PYTHON=/usr/local/bin/python3"
      ]
    },
    {
      "cell_type": "markdown",
      "metadata": {
        "id": "rsoSD_y9kcSh"
      },
      "source": [
        "## Hosted Jupyter runtime\n",
        "\n",
        "It is also possible to connect to a hosted Jupyter server by selecting **Connect to hosted runtime** in the dropdown menu at the top of this page. Keep in mind that the memory settings for this method are limited to what is made available by the Google Colab environment. These settings should be sufficient to run any of the examples here.\n",
        "\n",
        "The files are shared at the following location: https://drive.google.com/drive/folders/1lM6YKPZIexb_1D8pk6KnVd5AXn0Jp0ek if you wish to use this method.\n",
        "\n",
        "You will need to set up the files within your Google Drive. Note that the necessary files for the examples are over the free limit for Drive and you will need to have a higher storage limit.\n",
        "\n",
        "Use the following code block to mount the Google Drive and make the folder accessible to the hosted runtime.\n"
      ]
    },
    {
      "cell_type": "code",
      "execution_count": null,
      "metadata": {
        "colab": {
          "base_uri": "https://localhost:8080/"
        },
        "id": "PQUYxQDgmtFQ",
        "outputId": "92cf0a94-7fdf-4bc2-d8be-a700ab0c18c8"
      },
      "outputs": [],
      "source": [
        "# Mount Google Drive\n",
        "from google.colab import drive\n",
        "drive.mount('/content/drive')"
      ]
    },
    {
      "cell_type": "markdown",
      "metadata": {
        "id": "ohmHx-yNmQUd"
      },
      "source": [
        "## Setting up the reference data and PheCode\n",
        "\n",
        "To install and run a local Jupyter server, please follow the instructions on this page: https://research.google.com/colaboratory/local-runtimes.html\n",
        "\n",
        "You must also download the reference data and PheCode files as outlined on the following sections of the GOR open source project: \n",
        "\n",
        "* [Set up the reference data](https://github.com/gorpipe/gor#setting-up-reference-data-optional)\n",
        "* [Set up the PheCode GWAS data](https://github.com/gorpipe/gor#setting-up-phecode-gwas-data-optional)\n",
        "\n",
        "When you start your local Jupyter server, make sure to start it from within the folder where you have put your reference data files. Otherwise, you may need to edit the paths in the examples below."
      ]
    },
    {
      "cell_type": "code",
      "execution_count": 1,
      "metadata": {
        "id": "yEL1VPsoOf57"
      },
      "outputs": [],
      "source": [
        "# Setting config variables for the PySpark session\n",
        "\n",
        "#spark.stop()\n",
        "from pyspark.sql import SparkSession\n",
        "spark = SparkSession.builder.master(\"local[*]\") \\\n",
        "          .appName(\"SparkGOR demo\") \\\n",
        "          .config(\"spark.jars.packages\",\"org.gorpipe:gor-spark:3.19.0\") \\\n",
        "          .config(\"spark.jars.excludes\",\"org.eclipse.jetty:jetty-util-ajax,io.dropwizard.metrics:metrics-jvm,io.dropwizard.metrics:metrics-json,org.jetbrains.kotlin:kotlin-stdlib-common\") \\\n",
        "          .getOrCreate()\n",
        "\n",
        "# For lower spec computers, the following additional config variable may be necessary (append to the config variables above):\n",
        "#config(\"spark.driver.memory\",\"8g\").config(\"spark.executor.memory\",\"8g\")"
      ]
    },
    {
      "cell_type": "code",
      "execution_count": 10,
      "metadata": {
        "id": "Im2PU7i06N37"
      },
      "outputs": [],
      "source": [
        "# Initialize SparkGOR session\n",
        "# If you are using the GOR session with options, you can specify other folders for the config and project directories.\n",
        "\n",
        "import os\n",
        "import gor_pyspark\n",
        "#sgs = spark.createGorSession()\n",
        "sgs = spark.createGorSessionWOptions(os.path.expanduser(\"~/gorproject\"),\"result_cache\",\"config/gor_config.txt\",\"config/gor_standard_aliases.txt\")"
      ]
    },
    {
      "cell_type": "code",
      "execution_count": 3,
      "metadata": {
        "id": "ceBhcfiBywBV"
      },
      "outputs": [
        {
          "data": {
            "text/html": [
              "<div>\n",
              "<style scoped>\n",
              "    .dataframe tbody tr th:only-of-type {\n",
              "        vertical-align: middle;\n",
              "    }\n",
              "\n",
              "    .dataframe tbody tr th {\n",
              "        vertical-align: top;\n",
              "    }\n",
              "\n",
              "    .dataframe thead th {\n",
              "        text-align: right;\n",
              "    }\n",
              "</style>\n",
              "<table border=\"1\" class=\"dataframe\">\n",
              "  <thead>\n",
              "    <tr style=\"text-align: right;\">\n",
              "      <th></th>\n",
              "      <th>chrom</th>\n",
              "      <th>pos</th>\n",
              "      <th>x</th>\n",
              "    </tr>\n",
              "  </thead>\n",
              "  <tbody>\n",
              "    <tr>\n",
              "      <th>0</th>\n",
              "      <td>chr1</td>\n",
              "      <td>1</td>\n",
              "      <td>2</td>\n",
              "    </tr>\n",
              "    <tr>\n",
              "      <th>1</th>\n",
              "      <td>chr1</td>\n",
              "      <td>2</td>\n",
              "      <td>3</td>\n",
              "    </tr>\n",
              "    <tr>\n",
              "      <th>2</th>\n",
              "      <td>chr1</td>\n",
              "      <td>3</td>\n",
              "      <td>4</td>\n",
              "    </tr>\n",
              "  </tbody>\n",
              "</table>\n",
              "</div>"
            ],
            "text/plain": [
              "  chrom  pos  x\n",
              "0  chr1    1  2\n",
              "1  chr1    2  3\n",
              "2  chr1    3  4"
            ]
          },
          "execution_count": 3,
          "metadata": {},
          "output_type": "execute_result"
        }
      ],
      "source": [
        "# SparkGOR query requiring no data\n",
        "sgs.pydataframe(\"gorrows -p chr1:1-4 | calc x pos+1\").toPandas()"
      ]
    },
    {
      "cell_type": "markdown",
      "metadata": {
        "id": "NnuzDSHYBd5S"
      },
      "source": [
        "# Examples from the SparkGOR paper\n",
        "\n",
        "The following section runs examples from the [SparkGOR paper](https://arxiv.org/abs/2009.00061), which can be accessed at: https://arxiv.org/abs/2009.00061"
      ]
    },
    {
      "cell_type": "markdown",
      "metadata": {},
      "source": [
        "### From Examples 2,3,4\n",
        "This example shows how to use nested GOR query as a Spark DataSource in SQL. \n",
        "Note how the partitioning is controlled by the parallel PGOR query (based on genomic locus).\n",
        "Uses gor create statement with spark sql to cache the results. \n",
        "The GOR specific varjoin function is optimized for genomic variant joins."
      ]
    },
    {
      "cell_type": "code",
      "execution_count": 12,
      "metadata": {
        "colab": {
          "base_uri": "https://localhost:8080/",
          "height": 419
        },
        "id": "Yl1XSULdVo39",
        "outputId": "5b45a33f-f5dd-408d-aad9-e12b70a308e1"
      },
      "outputs": [
        {
          "data": {
            "text/html": [
              "<div>\n",
              "<style scoped>\n",
              "    .dataframe tbody tr th:only-of-type {\n",
              "        vertical-align: middle;\n",
              "    }\n",
              "\n",
              "    .dataframe tbody tr th {\n",
              "        vertical-align: top;\n",
              "    }\n",
              "\n",
              "    .dataframe thead th {\n",
              "        text-align: right;\n",
              "    }\n",
              "</style>\n",
              "<table border=\"1\" class=\"dataframe\">\n",
              "  <thead>\n",
              "    <tr style=\"text-align: right;\">\n",
              "      <th></th>\n",
              "      <th>chrom</th>\n",
              "      <th>pos</th>\n",
              "      <th>reference</th>\n",
              "      <th>allele</th>\n",
              "      <th>rsID</th>\n",
              "      <th>pVal_mm</th>\n",
              "      <th>OR_mm</th>\n",
              "      <th>CASE_info</th>\n",
              "      <th>GC</th>\n",
              "      <th>QQ</th>\n",
              "      <th>BONF</th>\n",
              "      <th>HOLM</th>\n",
              "      <th>Source</th>\n",
              "    </tr>\n",
              "  </thead>\n",
              "  <tbody>\n",
              "    <tr>\n",
              "      <th>0</th>\n",
              "      <td>chr16</td>\n",
              "      <td>29811</td>\n",
              "      <td>T</td>\n",
              "      <td>C</td>\n",
              "      <td>rs2228650</td>\n",
              "      <td>2.600000e-28</td>\n",
              "      <td>0.225538</td>\n",
              "      <td>3/39/133</td>\n",
              "      <td>0.177510</td>\n",
              "      <td>0.317790</td>\n",
              "      <td>4.447000e-21</td>\n",
              "      <td>3.033900e-21</td>\n",
              "      <td>282.5</td>\n",
              "    </tr>\n",
              "    <tr>\n",
              "      <th>1</th>\n",
              "      <td>chr12</td>\n",
              "      <td>55657</td>\n",
              "      <td>C</td>\n",
              "      <td>T</td>\n",
              "      <td>rs2221166</td>\n",
              "      <td>8.400000e-22</td>\n",
              "      <td>0.376430</td>\n",
              "      <td>13/77/159</td>\n",
              "      <td>0.240990</td>\n",
              "      <td>0.356500</td>\n",
              "      <td>1.436700e-14</td>\n",
              "      <td>9.245500e-15</td>\n",
              "      <td>282.5</td>\n",
              "    </tr>\n",
              "    <tr>\n",
              "      <th>2</th>\n",
              "      <td>chr17</td>\n",
              "      <td>155173</td>\n",
              "      <td>A</td>\n",
              "      <td>G</td>\n",
              "      <td>rs2223138</td>\n",
              "      <td>2.700000e-15</td>\n",
              "      <td>0.504448</td>\n",
              "      <td>231/149/26</td>\n",
              "      <td>0.334100</td>\n",
              "      <td>0.408660</td>\n",
              "      <td>4.618100e-08</td>\n",
              "      <td>2.731100e-08</td>\n",
              "      <td>282.5</td>\n",
              "    </tr>\n",
              "    <tr>\n",
              "      <th>3</th>\n",
              "      <td>chr12</td>\n",
              "      <td>55657</td>\n",
              "      <td>C</td>\n",
              "      <td>T</td>\n",
              "      <td>rs2221166</td>\n",
              "      <td>4.700000e-12</td>\n",
              "      <td>0.340889</td>\n",
              "      <td>8/26/76</td>\n",
              "      <td>0.055197</td>\n",
              "      <td>0.215570</td>\n",
              "      <td>8.038900e-05</td>\n",
              "      <td>6.306100e-05</td>\n",
              "      <td>133.0</td>\n",
              "    </tr>\n",
              "    <tr>\n",
              "      <th>4</th>\n",
              "      <td>chr20</td>\n",
              "      <td>297874</td>\n",
              "      <td>T</td>\n",
              "      <td>C</td>\n",
              "      <td>rs2223665</td>\n",
              "      <td>1.800000e-11</td>\n",
              "      <td>1.730770</td>\n",
              "      <td>160/139/33</td>\n",
              "      <td>0.411440</td>\n",
              "      <td>0.450800</td>\n",
              "      <td>3.078700e-04</td>\n",
              "      <td>1.691300e-04</td>\n",
              "      <td>282.5</td>\n",
              "    </tr>\n",
              "    <tr>\n",
              "      <th>5</th>\n",
              "      <td>chr12</td>\n",
              "      <td>55657</td>\n",
              "      <td>C</td>\n",
              "      <td>T</td>\n",
              "      <td>rs2221166</td>\n",
              "      <td>1.900000e-10</td>\n",
              "      <td>0.461720</td>\n",
              "      <td>15/50/100</td>\n",
              "      <td>0.047745</td>\n",
              "      <td>0.148930</td>\n",
              "      <td>3.249800e-03</td>\n",
              "      <td>2.766000e-03</td>\n",
              "      <td>282.8</td>\n",
              "    </tr>\n",
              "    <tr>\n",
              "      <th>6</th>\n",
              "      <td>chr12</td>\n",
              "      <td>55657</td>\n",
              "      <td>C</td>\n",
              "      <td>T</td>\n",
              "      <td>rs2221166</td>\n",
              "      <td>1.900000e-06</td>\n",
              "      <td>0.937565</td>\n",
              "      <td>1964/5591/4538</td>\n",
              "      <td>0.138700</td>\n",
              "      <td>0.260420</td>\n",
              "      <td>1.000000e+00</td>\n",
              "      <td>1.000000e+00</td>\n",
              "      <td>250.2</td>\n",
              "    </tr>\n",
              "    <tr>\n",
              "      <th>7</th>\n",
              "      <td>chr12</td>\n",
              "      <td>55657</td>\n",
              "      <td>C</td>\n",
              "      <td>T</td>\n",
              "      <td>rs2221166</td>\n",
              "      <td>2.700000e-06</td>\n",
              "      <td>0.824517</td>\n",
              "      <td>166/588/512</td>\n",
              "      <td>0.005935</td>\n",
              "      <td>0.057643</td>\n",
              "      <td>1.000000e+00</td>\n",
              "      <td>1.000000e+00</td>\n",
              "      <td>646.0</td>\n",
              "    </tr>\n",
              "    <tr>\n",
              "      <th>8</th>\n",
              "      <td>chr16</td>\n",
              "      <td>29811</td>\n",
              "      <td>T</td>\n",
              "      <td>C</td>\n",
              "      <td>rs2228650</td>\n",
              "      <td>6.700000e-06</td>\n",
              "      <td>0.919421</td>\n",
              "      <td>936/2972/2544</td>\n",
              "      <td>0.161640</td>\n",
              "      <td>0.277370</td>\n",
              "      <td>1.000000e+00</td>\n",
              "      <td>1.000000e+00</td>\n",
              "      <td>250.2</td>\n",
              "    </tr>\n",
              "    <tr>\n",
              "      <th>9</th>\n",
              "      <td>chr17</td>\n",
              "      <td>155173</td>\n",
              "      <td>A</td>\n",
              "      <td>G</td>\n",
              "      <td>rs2223138</td>\n",
              "      <td>8.600000e-06</td>\n",
              "      <td>1.489344</td>\n",
              "      <td>500/117/4</td>\n",
              "      <td>0.000033</td>\n",
              "      <td>0.000241</td>\n",
              "      <td>1.000000e+00</td>\n",
              "      <td>1.000000e+00</td>\n",
              "      <td>561.1</td>\n",
              "    </tr>\n",
              "  </tbody>\n",
              "</table>\n",
              "</div>"
            ],
            "text/plain": [
              "   chrom     pos reference allele       rsID       pVal_mm     OR_mm  \\\n",
              "0  chr16   29811         T      C  rs2228650  2.600000e-28  0.225538   \n",
              "1  chr12   55657         C      T  rs2221166  8.400000e-22  0.376430   \n",
              "2  chr17  155173         A      G  rs2223138  2.700000e-15  0.504448   \n",
              "3  chr12   55657         C      T  rs2221166  4.700000e-12  0.340889   \n",
              "4  chr20  297874         T      C  rs2223665  1.800000e-11  1.730770   \n",
              "5  chr12   55657         C      T  rs2221166  1.900000e-10  0.461720   \n",
              "6  chr12   55657         C      T  rs2221166  1.900000e-06  0.937565   \n",
              "7  chr12   55657         C      T  rs2221166  2.700000e-06  0.824517   \n",
              "8  chr16   29811         T      C  rs2228650  6.700000e-06  0.919421   \n",
              "9  chr17  155173         A      G  rs2223138  8.600000e-06  1.489344   \n",
              "\n",
              "        CASE_info        GC        QQ          BONF          HOLM  Source  \n",
              "0        3/39/133  0.177510  0.317790  4.447000e-21  3.033900e-21   282.5  \n",
              "1       13/77/159  0.240990  0.356500  1.436700e-14  9.245500e-15   282.5  \n",
              "2      231/149/26  0.334100  0.408660  4.618100e-08  2.731100e-08   282.5  \n",
              "3         8/26/76  0.055197  0.215570  8.038900e-05  6.306100e-05   133.0  \n",
              "4      160/139/33  0.411440  0.450800  3.078700e-04  1.691300e-04   282.5  \n",
              "5       15/50/100  0.047745  0.148930  3.249800e-03  2.766000e-03   282.8  \n",
              "6  1964/5591/4538  0.138700  0.260420  1.000000e+00  1.000000e+00   250.2  \n",
              "7     166/588/512  0.005935  0.057643  1.000000e+00  1.000000e+00   646.0  \n",
              "8   936/2972/2544  0.161640  0.277370  1.000000e+00  1.000000e+00   250.2  \n",
              "9       500/117/4  0.000033  0.000241  1.000000e+00  1.000000e+00   561.1  "
            ]
          },
          "execution_count": 12,
          "metadata": {},
          "output_type": "execute_result"
        }
      ],
      "source": [
        "ordbsnp = sgs.pydataframe(\"select * from <(pgor ref/dbsnp/dbsnp.gorz | top 100000 | split rsIDs | rename rsIDs rsID) order by rsID\")\n",
        "savepath = os.path.expanduser(\"~/gorproject/dbsnp.rsOrd.parquet\")\n",
        "ordbsnp.write.mode(\"overwrite\").save(savepath)\n",
        "sgs.setCreate(\"#myordrssnps#\",\"select * from dbsnp.rsOrd.parquet where rsID like 'rs222%' order by chrom, pos\")\n",
        "\n",
        "ss = sgs.pydataframe(\"create #myphewas# = pgor [#myordrssnps#] | varjoin -l -r phecode_gwas/Phecode_adjust_f2.gord; nor [#myphewas#] | sort -c pval_mm:n,rsID\")\n",
        "ss.limit(10).toPandas()"
      ]
    },
    {
      "cell_type": "markdown",
      "metadata": {},
      "source": [
        "### Example 7\n",
        "This example shows how pandas dataframe is used in the GOR context by registering it as a table in Spark. \n",
        "The table is then stored in the GOR cache using a create statement"
      ]
    },
    {
      "cell_type": "code",
      "execution_count": 14,
      "metadata": {
        "colab": {
          "base_uri": "https://localhost:8080/",
          "height": 142
        },
        "id": "-nMllJir4TqY",
        "outputId": "6c692c60-a665-408c-d80a-17520a4d7bf0"
      },
      "outputs": [
        {
          "data": {
            "text/html": [
              "<div>\n",
              "<style scoped>\n",
              "    .dataframe tbody tr th:only-of-type {\n",
              "        vertical-align: middle;\n",
              "    }\n",
              "\n",
              "    .dataframe tbody tr th {\n",
              "        vertical-align: top;\n",
              "    }\n",
              "\n",
              "    .dataframe thead th {\n",
              "        text-align: right;\n",
              "    }\n",
              "</style>\n",
              "<table border=\"1\" class=\"dataframe\">\n",
              "  <thead>\n",
              "    <tr style=\"text-align: right;\">\n",
              "      <th></th>\n",
              "      <th>gene_symbol</th>\n",
              "      <th>count</th>\n",
              "    </tr>\n",
              "  </thead>\n",
              "  <tbody>\n",
              "    <tr>\n",
              "      <th>0</th>\n",
              "      <td>RPL21P4</td>\n",
              "      <td>15</td>\n",
              "    </tr>\n",
              "    <tr>\n",
              "      <th>1</th>\n",
              "      <td>BRCA1</td>\n",
              "      <td>2101</td>\n",
              "    </tr>\n",
              "    <tr>\n",
              "      <th>2</th>\n",
              "      <td>BRCA2</td>\n",
              "      <td>3037</td>\n",
              "    </tr>\n",
              "  </tbody>\n",
              "</table>\n",
              "</div>"
            ],
            "text/plain": [
              "  gene_symbol  count\n",
              "0     RPL21P4     15\n",
              "1       BRCA1   2101\n",
              "2       BRCA2   3037"
            ]
          },
          "execution_count": 14,
          "metadata": {},
          "output_type": "execute_result"
        }
      ],
      "source": [
        "\n",
        "import pandas as pd\n",
        "myPandasGenes = pd.DataFrame([\"BRCA1\",\"BRCA2\"],columns=[\"gene\"])\n",
        "myGenes = spark.createDataFrame(myPandasGenes)\n",
        "myGenes.createOrReplaceTempView(\"myGenes\")\n",
        "sgs.setCreateAndDefs(\"\"\"\n",
        "    create #mygenes# = select gene from myGenes; \n",
        "    def #genes# = ref/genes.gorz; \n",
        "    def #exons# = ref/refgenes/refgenes_exons.gorz; \n",
        "    def #dbsnp# = ref/dbsnp/dbsnp.gorz;\n",
        "\"\"\")\n",
        "sgs.setCreate(\"#myexons#\", \"gor #exons# | inset -c gene_symbol [#mygenes#]\")\n",
        "exonSnps = sgs.pydataframe(\"pgor [#myexons#] | join -segsnp -ir #dbsnp# | join -snpseg -r #genes#\")\n",
        "snpCount = exonSnps.groupBy(\"gene_symbol\").count()\n",
        "snpCount.toPandas()"
      ]
    },
    {
      "cell_type": "markdown",
      "metadata": {},
      "source": [
        "### Example 8\n",
        "Same as 7 using SQL with nested GOR syntax"
      ]
    },
    {
      "cell_type": "code",
      "execution_count": 16,
      "metadata": {
        "colab": {
          "base_uri": "https://localhost:8080/",
          "height": 142
        },
        "id": "65qL2Oqw4aC-",
        "outputId": "db8d79d5-0b6c-4780-be01-91d72c9b722a"
      },
      "outputs": [
        {
          "data": {
            "text/html": [
              "<div>\n",
              "<style scoped>\n",
              "    .dataframe tbody tr th:only-of-type {\n",
              "        vertical-align: middle;\n",
              "    }\n",
              "\n",
              "    .dataframe tbody tr th {\n",
              "        vertical-align: top;\n",
              "    }\n",
              "\n",
              "    .dataframe thead th {\n",
              "        text-align: right;\n",
              "    }\n",
              "</style>\n",
              "<table border=\"1\" class=\"dataframe\">\n",
              "  <thead>\n",
              "    <tr style=\"text-align: right;\">\n",
              "      <th></th>\n",
              "      <th>count(1)</th>\n",
              "    </tr>\n",
              "  </thead>\n",
              "  <tbody>\n",
              "    <tr>\n",
              "      <th>0</th>\n",
              "      <td>15</td>\n",
              "    </tr>\n",
              "    <tr>\n",
              "      <th>1</th>\n",
              "      <td>2101</td>\n",
              "    </tr>\n",
              "    <tr>\n",
              "      <th>2</th>\n",
              "      <td>3037</td>\n",
              "    </tr>\n",
              "  </tbody>\n",
              "</table>\n",
              "</div>"
            ],
            "text/plain": [
              "   count(1)\n",
              "0        15\n",
              "1      2101\n",
              "2      3037"
            ]
          },
          "execution_count": 16,
          "metadata": {},
          "output_type": "execute_result"
        }
      ],
      "source": [
        "snpCount2 = sgs.pydataframe(\"select count(*) from <(pgor [#myexons#] | join -segsnp -ir #dbsnp# | join -snpseg -r ref/genes.gorz) group by gene_symbol\")\n",
        "snpCount2.toPandas()"
      ]
    },
    {
      "cell_type": "markdown",
      "metadata": {},
      "source": [
        "The GOR registerd Spark DataSource is used here to load file in the .gorz format into a spark DataFrame"
      ]
    },
    {
      "cell_type": "code",
      "execution_count": 19,
      "metadata": {
        "colab": {
          "base_uri": "https://localhost:8080/",
          "height": 419
        },
        "id": "Ey9vhU1n4cAS",
        "outputId": "98c6dc0e-bdb0-4b68-dfbe-ac8c141a2f3f"
      },
      "outputs": [
        {
          "data": {
            "text/html": [
              "<div>\n",
              "<style scoped>\n",
              "    .dataframe tbody tr th:only-of-type {\n",
              "        vertical-align: middle;\n",
              "    }\n",
              "\n",
              "    .dataframe tbody tr th {\n",
              "        vertical-align: top;\n",
              "    }\n",
              "\n",
              "    .dataframe thead th {\n",
              "        text-align: right;\n",
              "    }\n",
              "</style>\n",
              "<table border=\"1\" class=\"dataframe\">\n",
              "  <thead>\n",
              "    <tr style=\"text-align: right;\">\n",
              "      <th></th>\n",
              "      <th>chrom</th>\n",
              "      <th>pos</th>\n",
              "      <th>reference</th>\n",
              "      <th>allele</th>\n",
              "      <th>rsids</th>\n",
              "    </tr>\n",
              "  </thead>\n",
              "  <tbody>\n",
              "    <tr>\n",
              "      <th>0</th>\n",
              "      <td>chr1</td>\n",
              "      <td>10020</td>\n",
              "      <td>AA</td>\n",
              "      <td>A</td>\n",
              "      <td>rs775809821</td>\n",
              "    </tr>\n",
              "    <tr>\n",
              "      <th>1</th>\n",
              "      <td>chr1</td>\n",
              "      <td>10039</td>\n",
              "      <td>A</td>\n",
              "      <td>C</td>\n",
              "      <td>rs978760828</td>\n",
              "    </tr>\n",
              "    <tr>\n",
              "      <th>2</th>\n",
              "      <td>chr1</td>\n",
              "      <td>10043</td>\n",
              "      <td>T</td>\n",
              "      <td>A</td>\n",
              "      <td>rs1008829651</td>\n",
              "    </tr>\n",
              "    <tr>\n",
              "      <th>3</th>\n",
              "      <td>chr1</td>\n",
              "      <td>10051</td>\n",
              "      <td>A</td>\n",
              "      <td>G</td>\n",
              "      <td>rs1052373574</td>\n",
              "    </tr>\n",
              "    <tr>\n",
              "      <th>4</th>\n",
              "      <td>chr1</td>\n",
              "      <td>10054</td>\n",
              "      <td>C</td>\n",
              "      <td>CC</td>\n",
              "      <td>rs1326880612</td>\n",
              "    </tr>\n",
              "  </tbody>\n",
              "</table>\n",
              "</div>"
            ],
            "text/plain": [
              "  chrom    pos reference allele         rsids\n",
              "0  chr1  10020        AA      A   rs775809821\n",
              "1  chr1  10039         A      C   rs978760828\n",
              "2  chr1  10043         T      A  rs1008829651\n",
              "3  chr1  10051         A      G  rs1052373574\n",
              "4  chr1  10054         C     CC  rs1326880612"
            ]
          },
          "execution_count": 19,
          "metadata": {},
          "output_type": "execute_result"
        }
      ],
      "source": [
        "# Create parquet file from dbsnp.gorz\n",
        "dbsnpGorz = spark.read.format(\"gor\").load(os.path.expanduser(\"~/gorproject/ref/dbsnp/dbsnp.gorz\")).limit(1001)\n",
        "#dbsnpGorz = sgs.pydataframe(\"select * from ref/dbsnp/dbsnp.gorz\").limit(1000)\n",
        "dbsnpGorz.write.mode(\"overwrite\").save(\"dbsnp.parquet\")\n",
        "dbsnpGorz.limit(5).toPandas()"
      ]
    },
    {
      "cell_type": "code",
      "execution_count": 20,
      "metadata": {
        "colab": {
          "base_uri": "https://localhost:8080/"
        },
        "id": "hNEuGHVI4eHo",
        "outputId": "4d10ffe9-758b-4a5a-9636-634434fcb2e0"
      },
      "outputs": [
        {
          "data": {
            "text/plain": [
              "'gor #exons# | inset -c gene_symbol [#mygenes#]'"
            ]
          },
          "execution_count": 20,
          "metadata": {},
          "output_type": "execute_result"
        }
      ],
      "source": [
        "# Example how to remove create\n",
        "sgs.removeCreate(\"#myexons#\")"
      ]
    },
    {
      "cell_type": "markdown",
      "metadata": {},
      "source": [
        "### Example 9\n",
        "The GOR Python SDK registers the .gor function on a Spark DataFrame. GOR functions are run as a .mapPartition function"
      ]
    },
    {
      "cell_type": "code",
      "execution_count": 24,
      "metadata": {
        "colab": {
          "base_uri": "https://localhost:8080/",
          "height": 419
        },
        "id": "H99GP0yI4f8i",
        "outputId": "bca20e27-0485-49c4-e87c-f3ece26b3d36"
      },
      "outputs": [
        {
          "data": {
            "text/html": [
              "<div>\n",
              "<style scoped>\n",
              "    .dataframe tbody tr th:only-of-type {\n",
              "        vertical-align: middle;\n",
              "    }\n",
              "\n",
              "    .dataframe tbody tr th {\n",
              "        vertical-align: top;\n",
              "    }\n",
              "\n",
              "    .dataframe thead th {\n",
              "        text-align: right;\n",
              "    }\n",
              "</style>\n",
              "<table border=\"1\" class=\"dataframe\">\n",
              "  <thead>\n",
              "    <tr style=\"text-align: right;\">\n",
              "      <th></th>\n",
              "      <th>chrom</th>\n",
              "      <th>pos</th>\n",
              "      <th>reference</th>\n",
              "      <th>allele</th>\n",
              "      <th>type</th>\n",
              "      <th>rsIDs</th>\n",
              "      <th>max_consequence</th>\n",
              "    </tr>\n",
              "  </thead>\n",
              "  <tbody>\n",
              "    <tr>\n",
              "      <th>0</th>\n",
              "      <td>chr1</td>\n",
              "      <td>10020</td>\n",
              "      <td>NA</td>\n",
              "      <td>N</td>\n",
              "      <td>InDel</td>\n",
              "      <td>rs775809821</td>\n",
              "      <td>NA</td>\n",
              "    </tr>\n",
              "    <tr>\n",
              "      <th>1</th>\n",
              "      <td>chr1</td>\n",
              "      <td>10039</td>\n",
              "      <td>A</td>\n",
              "      <td>C</td>\n",
              "      <td>Snp</td>\n",
              "      <td>rs978760828</td>\n",
              "      <td>NA</td>\n",
              "    </tr>\n",
              "    <tr>\n",
              "      <th>2</th>\n",
              "      <td>chr1</td>\n",
              "      <td>10043</td>\n",
              "      <td>T</td>\n",
              "      <td>A</td>\n",
              "      <td>Snp</td>\n",
              "      <td>rs1008829651</td>\n",
              "      <td>NA</td>\n",
              "    </tr>\n",
              "    <tr>\n",
              "      <th>3</th>\n",
              "      <td>chr1</td>\n",
              "      <td>10051</td>\n",
              "      <td>A</td>\n",
              "      <td>G</td>\n",
              "      <td>Snp</td>\n",
              "      <td>rs1052373574</td>\n",
              "      <td>NA</td>\n",
              "    </tr>\n",
              "    <tr>\n",
              "      <th>4</th>\n",
              "      <td>chr1</td>\n",
              "      <td>10054</td>\n",
              "      <td>N</td>\n",
              "      <td>NC</td>\n",
              "      <td>InDel</td>\n",
              "      <td>rs1326880612</td>\n",
              "      <td>NA</td>\n",
              "    </tr>\n",
              "  </tbody>\n",
              "</table>\n",
              "</div>"
            ],
            "text/plain": [
              "  chrom    pos reference allele   type         rsIDs max_consequence\n",
              "0  chr1  10020        NA      N  InDel   rs775809821              NA\n",
              "1  chr1  10039         A      C    Snp   rs978760828              NA\n",
              "2  chr1  10043         T      A    Snp  rs1008829651              NA\n",
              "3  chr1  10051         A      G    Snp  rs1052373574              NA\n",
              "4  chr1  10054         N     NC  InDel  rs1326880612              NA"
            ]
          },
          "execution_count": 24,
          "metadata": {},
          "output_type": "execute_result"
        }
      ],
      "source": [
        "dbsnpDf = spark.read.load(\"dbsnp.parquet\")\n",
        "\n",
        "myVars = dbsnpDf.gor(\"calc type = if(len(reference)=len(allele),'Snp','InDel')\")\n",
        "myVars.createOrReplaceTempView(\"myVars\")\n",
        "sgs.setDef(\"#VEPP#\",\"phecode_gwas/metadata/vep_single.gorz\")\n",
        "myVarsAnno = sgs.pydataframe(\"select * from myVars order by chrom,pos\")\n",
        "pyVarsAnno = myVarsAnno.gor(\"varnorm -left reference allele | group 1 -gc reference,allele,type -set -sc rsIDs | rename set_rsIDs rsIDs | varjoin -r -l -e 'NA' <(gor #VEPP# | select 1-call,max_consequence)\")\n",
        "pyVarsAnno.limit(5).toPandas()"
      ]
    }
  ],
  "metadata": {
    "colab": {
      "include_colab_link": true,
      "name": "SparkGOR: Jupyter Introduction.ipynb",
      "provenance": []
    },
    "kernelspec": {
      "display_name": "Python 3",
      "name": "python3"
    },
    "language_info": {
      "codemirror_mode": {
        "name": "ipython",
        "version": 3
      },
      "file_extension": ".py",
      "mimetype": "text/x-python",
      "name": "python",
      "nbconvert_exporter": "python",
      "pygments_lexer": "ipython3",
      "version": "3.9.9"
    }
  },
  "nbformat": 4,
  "nbformat_minor": 0
}
